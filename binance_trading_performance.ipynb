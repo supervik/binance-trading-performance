{
  "nbformat": 4,
  "nbformat_minor": 0,
  "metadata": {
    "colab": {
      "name": "binance_trading_performance.ipynb",
      "provenance": [],
      "collapsed_sections": [
        "R8hImoAH3Zbk"
      ],
      "authorship_tag": "ABX9TyPGPGGYGnXiF/GM3icq5s02",
      "include_colab_link": true
    },
    "kernelspec": {
      "name": "python3",
      "display_name": "Python 3"
    }
  },
  "cells": [
    {
      "cell_type": "markdown",
      "metadata": {
        "id": "view-in-github",
        "colab_type": "text"
      },
      "source": [
        "<a href=\"https://colab.research.google.com/github/supervik/binance-trading-performance/blob/master/binance_trading_performance.ipynb\" target=\"_parent\"><img src=\"https://colab.research.google.com/assets/colab-badge.svg\" alt=\"Open In Colab\"/></a>"
      ]
    },
    {
      "cell_type": "markdown",
      "metadata": {
        "id": "t3Y12x0Q8ztb",
        "colab_type": "text"
      },
      "source": [
        "# Binance trading performance evaluation"
      ]
    },
    {
      "cell_type": "markdown",
      "metadata": {
        "id": "A5OaX-tQ3fPq",
        "colab_type": "text"
      },
      "source": [
        "## User settings"
      ]
    },
    {
      "cell_type": "code",
      "metadata": {
        "id": "Z22hjFCLuwAG",
        "colab_type": "code",
        "cellView": "form",
        "colab": {}
      },
      "source": [
        "# @markdown *API keys. Use read-only API keys for more security:*\n",
        "API_key = 'm5gNycphXSKHEUT3yCOs875VqXzEGSudt1RGpML9O3PkxVCVNUODIUMiBe8PaTTi ' #@param {type:\"string\"}\n",
        "API_secret = 'PRgpBJLfzWgnuyZ9OjfA2ODJk8v0YLyhyANXgtzYeud4b6dBGjMzM7EQDK4b5g0o' #@param {type:\"string\"}\n",
        "\n",
        "# @markdown *Market. Use dash '-' between base and quote assets.*\n",
        "market = 'MFT-ETH' #@param {type:\"string\"}\n",
        " \n",
        "# @markdown *Start and end date (UTC). Note, that **end_date** is used for getting final prices. P&L greatly depends on this date!*\n",
        "start_date = \"2020-06-01\" #@param {type:\"date\"}\n",
        "end_date = '2020-06-30' #@param {type:\"date\"}"
      ],
      "execution_count": 1,
      "outputs": []
    },
    {
      "cell_type": "markdown",
      "metadata": {
        "id": "R8hImoAH3Zbk",
        "colab_type": "text"
      },
      "source": [
        "## Binance API"
      ]
    },
    {
      "cell_type": "code",
      "metadata": {
        "id": "CFiRBxH-3Tnm",
        "colab_type": "code",
        "cellView": "both",
        "colab": {}
      },
      "source": [
        "#@title\n",
        "# Credits to @Bablofil https://github.com/Bablofil/binance-api\n",
        "import time\n",
        "import json\n",
        "import urllib\n",
        "import hmac, hashlib\n",
        "import requests\n",
        "\n",
        "from urllib.parse import urlparse, urlencode\n",
        "from urllib.request import Request, urlopen\n",
        "\n",
        "class Binance():\n",
        "    \n",
        "    methods = {\n",
        "            #  Public methods     \n",
        "            'ping':             {'url': 'ping', 'method': 'GET', 'private': False},                     \n",
        "            'time':             {'url': 'time', 'method': 'GET', 'private': False},         \n",
        "            'exchangeInfo':     {'url': 'exchangeInfo', 'method': 'GET', 'private': False},\n",
        "            'depth':            {'url': 'depth', 'method': 'GET', 'private': False},\n",
        "            'trades':           {'url': 'trades', 'method': 'GET', 'private': False},  \n",
        "            'historicalTrades': {'url': 'historicalTrades', 'method': 'GET', 'private': False},  \n",
        "            'aggTrades':        {'url': 'aggTrades', 'method': 'GET', 'private': False},\n",
        "            'klines':           {'url': 'klines', 'method': 'GET', 'private': False},   \n",
        "            'avgPrice':         {'url': 'avgPrice', 'method': 'GET', 'private': False}, \n",
        "            'ticker24hr':       {'url': 'ticker/24hr', 'method': 'GET', 'private': False},\n",
        "            'tickerPrice':      {'url': 'ticker/price', 'method': 'GET', 'private': False},   \n",
        "            'tickerBookTicker': {'url': 'ticker/bookTicker', 'method': 'GET', 'private': False}, \n",
        "            #  Private methods   \n",
        "            'createOrder':      {'url': 'order', 'method': 'POST', 'private': True},                        \n",
        "            'testOrder':        {'url': 'test', 'method': 'POST', 'private': True},              \n",
        "            'orderInfo':        {'url': 'order', 'method': 'GET', 'private': True},\n",
        "            'cancelOrder':      {'url': 'order', 'method': 'DELETE', 'private': True},\n",
        "            'openOrders':       {'url': 'openOrders', 'method': 'GET', 'private': True}, \n",
        "            'allOrders':        {'url': 'allOrders', 'method': 'GET', 'private': True},     \n",
        "            'account':          {'url': 'account', 'method': 'GET', 'private': True}, \n",
        "            'myTrades':         {'url': 'myTrades', 'method': 'GET', 'private': True}, \n",
        "   }\n",
        "    \n",
        "    def __init__(self, API_KEY, API_SECRET):\n",
        "        self.API_KEY = API_KEY\n",
        "        self.API_SECRET = bytearray(API_SECRET, encoding='utf-8')\n",
        "        self.shift_seconds = 0\n",
        "\n",
        "    def __getattr__(self, name):\n",
        "        def wrapper(*args, **kwargs):\n",
        "            kwargs.update(command=name)\n",
        "            return self.call_api(**kwargs)\n",
        "        return wrapper\n",
        "\n",
        "    def set_shift_seconds(self, seconds):\n",
        "        self.shift_seconds = seconds\n",
        "        \n",
        "    def call_api(self, **kwargs):\n",
        "\n",
        "        command = kwargs.pop('command')\n",
        "        api_url = 'https://api.binance.com/api/v3/' + self.methods[command]['url']\n",
        "\n",
        "        payload = kwargs\n",
        "        headers = {}\n",
        "        \n",
        "        payload_str = urllib.parse.urlencode(payload)\n",
        "        if self.methods[command]['private']:\n",
        "            payload.update({'timestamp': int(time.time() + self.shift_seconds - 1) * 1000})\n",
        "            payload_str = urllib.parse.urlencode(payload).encode('utf-8')\n",
        "            sign = hmac.new(\n",
        "                key=self.API_SECRET,\n",
        "                msg=payload_str,\n",
        "                digestmod=hashlib.sha256\n",
        "            ).hexdigest()\n",
        "\n",
        "            payload_str = payload_str.decode(\"utf-8\") + \"&signature=\"+str(sign) \n",
        "            headers = {\"X-MBX-APIKEY\": self.API_KEY}\n",
        "\n",
        "        if self.methods[command]['method'] == 'GET':\n",
        "            api_url += '?' + payload_str\n",
        "\n",
        "        # print(api_url, payload_str, self.methods[command])\n",
        "        response = requests.request(\n",
        "            method=self.methods[command]['method'], \n",
        "            url=api_url, \n",
        "            data=\"\" if self.methods[command]['method'] == 'GET' else payload_str,\n",
        "            headers=headers)\n",
        "\n",
        "        if 'code' in response.text:\n",
        "            print(response.text)\n",
        "            response = response.json()\n",
        "            return response['error']\n",
        "        return response.json()\n",
        "\n"
      ],
      "execution_count": 2,
      "outputs": []
    },
    {
      "cell_type": "markdown",
      "metadata": {
        "id": "NMHD6lrk3bww",
        "colab_type": "text"
      },
      "source": [
        "## Calculations"
      ]
    },
    {
      "cell_type": "code",
      "metadata": {
        "id": "oP03vOP-5Rwi",
        "colab_type": "code",
        "cellView": "both",
        "colab": {
          "base_uri": "https://localhost:8080/",
          "height": 0
        },
        "outputId": "3e5ea2df-f302-4dde-9ec9-57c94d09124c"
      },
      "source": [
        "#@title\n",
        "import sys\n",
        "import time\n",
        "import calendar\n",
        "import pandas as pd\n",
        "from IPython.core.interactiveshell import InteractiveShell\n",
        "InteractiveShell.ast_node_interactivity = \"all\"\n",
        "pd.set_option('display.max_rows', None)\n",
        "\n",
        "try:\n",
        "    asset_base = market.split(\"-\")[0]\n",
        "    asset_quote = market.split(\"-\")[1]\n",
        "except IndexError:\n",
        "    raise Exception(f\"!!! Warning: Use dash '-' to split base and quote assets for {market}!\")\n",
        "\n",
        "symbol = asset_base + asset_quote\n",
        "\n",
        "# Connect to Binance\n",
        "binance = Binance(API_key, API_secret)\n",
        "try:\n",
        "    trades = binance.myTrades(symbol = symbol)\n",
        "    print(f\"INFO: Exchange is successfully connected.\")\n",
        "except:\n",
        "    raise Exception(f\"!!! Warning: Can't get orders for {symbol}! Read message above.\")    \n",
        "\n",
        "# Create DataFrame \n",
        "df = pd.DataFrame(trades, columns = ['time', 'symbol', 'isBuyer', 'price', 'qty', 'quoteQty', 'commission', 'commissionAsset'])\n",
        "qty_base = 'qty_' + asset_base\n",
        "qty_quote = 'qty_' + asset_quote\n",
        "df.columns = ['time', 'symbol', 'side', 'price', qty_base, qty_quote, 'fee', 'fee_coin']\n",
        "df.side = df.side.replace([True, False], [1, -1])\n",
        "df = df.astype({'price': 'float', qty_base: 'float', qty_quote: 'float', 'fee': 'float'})\n",
        "\n",
        "# Start from time\n",
        "time_format = '%Y-%m-%d'\n",
        "start_date_ms = int(calendar.timegm(time.strptime(start_date, time_format)) * 1000)\n",
        "end_date_ms = int((calendar.timegm(time.strptime(end_date, time_format))) * 1000)\n",
        "df = df[(df.time >= start_date_ms) & (df.time <= end_date_ms + 86_400_000)]\n",
        "df.time = pd.to_datetime(df.time, unit='ms')\n",
        "\n",
        "# Find time for getting market prices\n",
        "time_now = time.gmtime(time.time())\n",
        "day_now_ms = calendar.timegm((time_now.tm_year, time_now.tm_mon, time_now.tm_mday, 0, 0, 0, 0, 0, 0)) * 1000\n",
        "prices_time = min(day_now_ms, end_date_ms)\n",
        "\n",
        "# Get symbol price\n",
        "try:\n",
        "    symbol_price  = float(binance.klines(symbol = symbol, interval = '1m', startTime = prices_time, limit = 1)[0][1])\n",
        "except:\n",
        "    print(f\"Something wrong with request of {symbol} price. Please try again.\")\n",
        "\n",
        "# Get quote-USD price\n",
        "if asset_quote == 'USDC' or asset_quote == 'USDT' or asset_quote == 'BUSD':\n",
        "    usd_price = 1\n",
        "else:\n",
        "    try:\n",
        "        usd_price  = float(binance.klines(symbol = asset_quote + 'USDT', interval = '1m', startTime = prices_time, limit = 1)[0][1])\n",
        "    except:\n",
        "        print(f\"Something wrong with the request of {asset_quote}USDT price. Please try again.\")\n",
        "\n",
        "# Get BNB-quote price\n",
        "if asset_quote == 'BNB':\n",
        "    bnb_price = 1\n",
        "else:\n",
        "    try:\n",
        "        bnb_price = float(binance.klines(symbol = 'BNB' + asset_quote, interval = '1m', startTime = prices_time, limit = 1)[0][1])\n",
        "    except:\n",
        "        print(f\"Something wrong with the request of BNB{asset_quote} price. Please try again.\")\n",
        "\n",
        "# Summary\n",
        "days = int((prices_time - start_date_ms)/(1000 * 86400)) + 1\n",
        "average_buy = df[df.side == 1][qty_quote].sum()/df[df.side == 1][qty_base].sum()\n",
        "average_sell = df[df.side == -1][qty_quote].sum()/df[df.side == -1][qty_base].sum()\n",
        "total_volume = df[qty_quote].sum()\n",
        "\n",
        "# Delta\n",
        "delta_base = (df[qty_base] * df.side).sum()\n",
        "delta_quote = - (df[qty_quote] * df.side).sum()\n",
        "\n",
        "# Fees\n",
        "fee_bnb = df[df.fee_coin == 'BNB'].fee.sum()\n",
        "fee_base = df[df.fee_coin == asset_base].fee.sum()\n",
        "fee_quote = df[df.fee_coin == asset_quote].fee.sum()\n",
        "\n",
        "# Totals\n",
        "total_quote = (delta_base - fee_base) * symbol_price + (delta_quote - fee_quote) - fee_bnb * bnb_price\n",
        "total_usd = total_quote * usd_price\n",
        "prices_time_utc = time.strftime(time_format, time.gmtime(prices_time/1000))"
      ],
      "execution_count": 3,
      "outputs": [
        {
          "output_type": "stream",
          "text": [
            "INFO: Exchange is successfully connected.\n"
          ],
          "name": "stdout"
        }
      ]
    },
    {
      "cell_type": "markdown",
      "metadata": {
        "id": "Ud8yDgXUAacv",
        "colab_type": "text"
      },
      "source": [
        "## Trades"
      ]
    },
    {
      "cell_type": "code",
      "metadata": {
        "id": "2XzmkN2AAdRS",
        "colab_type": "code",
        "cellView": "form",
        "colab": {
          "base_uri": "https://localhost:8080/",
          "height": 455
        },
        "outputId": "fd9984eb-e478-4735-bb11-44e1112cd4c3"
      },
      "source": [
        "#@title\n",
        "if df.empty:\n",
        "  print(f\"No trades found for {symbol} from {start_date} till {end_date}\")\n",
        "else: \n",
        "  print(f\"\\nTrades gathered for {symbol}:\")\n",
        "  df.side = df.side.replace([1, -1], ['BUY', 'SELL'])\n",
        "  df = df.reset_index(drop=True)\n",
        "  df"
      ],
      "execution_count": 4,
      "outputs": [
        {
          "output_type": "stream",
          "text": [
            "\n",
            "Trades gathered for MFTETH:\n"
          ],
          "name": "stdout"
        },
        {
          "output_type": "execute_result",
          "data": {
            "text/html": [
              "<div>\n",
              "<style scoped>\n",
              "    .dataframe tbody tr th:only-of-type {\n",
              "        vertical-align: middle;\n",
              "    }\n",
              "\n",
              "    .dataframe tbody tr th {\n",
              "        vertical-align: top;\n",
              "    }\n",
              "\n",
              "    .dataframe thead th {\n",
              "        text-align: right;\n",
              "    }\n",
              "</style>\n",
              "<table border=\"1\" class=\"dataframe\">\n",
              "  <thead>\n",
              "    <tr style=\"text-align: right;\">\n",
              "      <th></th>\n",
              "      <th>time</th>\n",
              "      <th>symbol</th>\n",
              "      <th>side</th>\n",
              "      <th>price</th>\n",
              "      <th>qty_MFT</th>\n",
              "      <th>qty_ETH</th>\n",
              "      <th>fee</th>\n",
              "      <th>fee_coin</th>\n",
              "    </tr>\n",
              "  </thead>\n",
              "  <tbody>\n",
              "    <tr>\n",
              "      <th>0</th>\n",
              "      <td>2020-06-16 13:18:03.591</td>\n",
              "      <td>MFTETH</td>\n",
              "      <td>BUY</td>\n",
              "      <td>0.000004</td>\n",
              "      <td>182557.0</td>\n",
              "      <td>0.750309</td>\n",
              "      <td>0.008125</td>\n",
              "      <td>BNB</td>\n",
              "    </tr>\n",
              "    <tr>\n",
              "      <th>1</th>\n",
              "      <td>2020-06-16 13:32:08.095</td>\n",
              "      <td>MFTETH</td>\n",
              "      <td>SELL</td>\n",
              "      <td>0.000004</td>\n",
              "      <td>145347.0</td>\n",
              "      <td>0.606097</td>\n",
              "      <td>0.006486</td>\n",
              "      <td>BNB</td>\n",
              "    </tr>\n",
              "    <tr>\n",
              "      <th>2</th>\n",
              "      <td>2020-06-16 13:32:08.171</td>\n",
              "      <td>MFTETH</td>\n",
              "      <td>SELL</td>\n",
              "      <td>0.000004</td>\n",
              "      <td>37210.0</td>\n",
              "      <td>0.155166</td>\n",
              "      <td>0.001661</td>\n",
              "      <td>BNB</td>\n",
              "    </tr>\n",
              "    <tr>\n",
              "      <th>3</th>\n",
              "      <td>2020-06-30 16:41:21.043</td>\n",
              "      <td>MFTETH</td>\n",
              "      <td>BUY</td>\n",
              "      <td>0.000004</td>\n",
              "      <td>44320.0</td>\n",
              "      <td>0.163098</td>\n",
              "      <td>0.001812</td>\n",
              "      <td>BNB</td>\n",
              "    </tr>\n",
              "    <tr>\n",
              "      <th>4</th>\n",
              "      <td>2020-06-30 16:41:21.828</td>\n",
              "      <td>MFTETH</td>\n",
              "      <td>BUY</td>\n",
              "      <td>0.000004</td>\n",
              "      <td>499158.0</td>\n",
              "      <td>1.836901</td>\n",
              "      <td>0.020411</td>\n",
              "      <td>BNB</td>\n",
              "    </tr>\n",
              "    <tr>\n",
              "      <th>5</th>\n",
              "      <td>2020-06-30 16:56:26.149</td>\n",
              "      <td>MFTETH</td>\n",
              "      <td>SELL</td>\n",
              "      <td>0.000004</td>\n",
              "      <td>460893.0</td>\n",
              "      <td>1.709913</td>\n",
              "      <td>0.018710</td>\n",
              "      <td>BNB</td>\n",
              "    </tr>\n",
              "    <tr>\n",
              "      <th>6</th>\n",
              "      <td>2020-06-30 16:56:26.157</td>\n",
              "      <td>MFTETH</td>\n",
              "      <td>SELL</td>\n",
              "      <td>0.000004</td>\n",
              "      <td>82585.0</td>\n",
              "      <td>0.306390</td>\n",
              "      <td>0.003353</td>\n",
              "      <td>BNB</td>\n",
              "    </tr>\n",
              "    <tr>\n",
              "      <th>7</th>\n",
              "      <td>2020-06-30 19:12:17.470</td>\n",
              "      <td>MFTETH</td>\n",
              "      <td>BUY</td>\n",
              "      <td>0.000004</td>\n",
              "      <td>560224.0</td>\n",
              "      <td>2.000000</td>\n",
              "      <td>0.022290</td>\n",
              "      <td>BNB</td>\n",
              "    </tr>\n",
              "    <tr>\n",
              "      <th>8</th>\n",
              "      <td>2020-06-30 19:20:31.977</td>\n",
              "      <td>MFTETH</td>\n",
              "      <td>SELL</td>\n",
              "      <td>0.000004</td>\n",
              "      <td>560224.0</td>\n",
              "      <td>2.000000</td>\n",
              "      <td>0.021950</td>\n",
              "      <td>BNB</td>\n",
              "    </tr>\n",
              "    <tr>\n",
              "      <th>9</th>\n",
              "      <td>2020-06-30 21:09:30.598</td>\n",
              "      <td>MFTETH</td>\n",
              "      <td>BUY</td>\n",
              "      <td>0.000004</td>\n",
              "      <td>550964.0</td>\n",
              "      <td>1.999999</td>\n",
              "      <td>0.022380</td>\n",
              "      <td>BNB</td>\n",
              "    </tr>\n",
              "    <tr>\n",
              "      <th>10</th>\n",
              "      <td>2020-06-30 21:10:03.299</td>\n",
              "      <td>MFTETH</td>\n",
              "      <td>SELL</td>\n",
              "      <td>0.000004</td>\n",
              "      <td>27412.0</td>\n",
              "      <td>0.099780</td>\n",
              "      <td>0.001095</td>\n",
              "      <td>BNB</td>\n",
              "    </tr>\n",
              "    <tr>\n",
              "      <th>11</th>\n",
              "      <td>2020-06-30 21:10:03.308</td>\n",
              "      <td>MFTETH</td>\n",
              "      <td>SELL</td>\n",
              "      <td>0.000004</td>\n",
              "      <td>523552.0</td>\n",
              "      <td>1.905729</td>\n",
              "      <td>0.020917</td>\n",
              "      <td>BNB</td>\n",
              "    </tr>\n",
              "  </tbody>\n",
              "</table>\n",
              "</div>"
            ],
            "text/plain": [
              "                      time  symbol  side  ...   qty_ETH       fee  fee_coin\n",
              "0  2020-06-16 13:18:03.591  MFTETH   BUY  ...  0.750309  0.008125       BNB\n",
              "1  2020-06-16 13:32:08.095  MFTETH  SELL  ...  0.606097  0.006486       BNB\n",
              "2  2020-06-16 13:32:08.171  MFTETH  SELL  ...  0.155166  0.001661       BNB\n",
              "3  2020-06-30 16:41:21.043  MFTETH   BUY  ...  0.163098  0.001812       BNB\n",
              "4  2020-06-30 16:41:21.828  MFTETH   BUY  ...  1.836901  0.020411       BNB\n",
              "5  2020-06-30 16:56:26.149  MFTETH  SELL  ...  1.709913  0.018710       BNB\n",
              "6  2020-06-30 16:56:26.157  MFTETH  SELL  ...  0.306390  0.003353       BNB\n",
              "7  2020-06-30 19:12:17.470  MFTETH   BUY  ...  2.000000  0.022290       BNB\n",
              "8  2020-06-30 19:20:31.977  MFTETH  SELL  ...  2.000000  0.021950       BNB\n",
              "9  2020-06-30 21:09:30.598  MFTETH   BUY  ...  1.999999  0.022380       BNB\n",
              "10 2020-06-30 21:10:03.299  MFTETH  SELL  ...  0.099780  0.001095       BNB\n",
              "11 2020-06-30 21:10:03.308  MFTETH  SELL  ...  1.905729  0.020917       BNB\n",
              "\n",
              "[12 rows x 8 columns]"
            ]
          },
          "metadata": {
            "tags": []
          },
          "execution_count": 4
        }
      ]
    },
    {
      "cell_type": "markdown",
      "metadata": {
        "id": "NJvrseVy6wfA",
        "colab_type": "text"
      },
      "source": [
        "## Summary"
      ]
    },
    {
      "cell_type": "code",
      "metadata": {
        "id": "Bz2nQ0zi6txc",
        "colab_type": "code",
        "cellView": "form",
        "colab": {
          "base_uri": "https://localhost:8080/",
          "height": 425
        },
        "outputId": "ebab5988-69ac-4098-ed9d-c94e6a335708"
      },
      "source": [
        "#@title\n",
        "print(f\"Summary for {symbol} for period [{start_date} - {end_date}]:\")\n",
        "print(f\"   Days: {days}\")\n",
        "print(f\"   Trades executed: {df.time.count()}\")\n",
        "print(f\"   Total volume traded ({asset_quote}): {round(total_volume, 8)}\")\n",
        "print(f\"   Average buy price: {round(average_buy, 8)}\")\n",
        "print(f\"   Average sell price: {round(average_sell, 8)}\")\n",
        "print(f\"\\nTrading delta:\")\n",
        "print(f\"   Delta {asset_base}: {round(delta_base, 8)}\")\n",
        "print(f\"   Delta {asset_quote}: {round(delta_quote, 8)}\")\n",
        "print(f\"\\nFees:\")\n",
        "print(f\"   Fees {asset_base}: {round(fee_base, 8)}\")\n",
        "print(f\"   Fees {asset_quote}: {round(fee_quote, 8)}\")\n",
        "print(f\"   Fees BNB: {round(fee_bnb, 8)}\")\n",
        "print(f\"\\nPrices at the end of the period [{prices_time_utc}]:\")\n",
        "print(f\"   Price {symbol}: {symbol_price}\")\n",
        "print(f\"   Price {asset_quote}USDT: {usd_price}\")\n",
        "print(f\"   Price BNB{asset_quote}: {bnb_price}\")\n",
        "print(f\"\\nTotal profit:\")\n",
        "print(f\"   Total profit ({asset_quote}): {round(total_quote, 8)}\")\n",
        "print(f\"   Total profit (USDT): {round(total_usd, 8)}\")"
      ],
      "execution_count": 5,
      "outputs": [
        {
          "output_type": "stream",
          "text": [
            "Summary for MFTETH for period [2020-06-01 - 2020-06-30]:\n",
            "   Days: 30\n",
            "   Trades executed: 12\n",
            "   Total volume traded (ETH): 13.53338202\n",
            "   Average buy price: 3.67e-06\n",
            "   Average sell price: 3.69e-06\n",
            "\n",
            "Trading delta:\n",
            "   Delta MFT: 0.0\n",
            "   Delta ETH: 0.0327674\n",
            "\n",
            "Fees:\n",
            "   Fees MFT: 0.0\n",
            "   Fees ETH: 0.0\n",
            "   Fees BNB: 0.14918898\n",
            "\n",
            "Prices at the end of the period [2020-06-30]:\n",
            "   Price MFTETH: 3.89e-06\n",
            "   Price ETHUSDT: 227.98\n",
            "   Price BNBETH: 0.067842\n",
            "\n",
            "Total profit:\n",
            "   Total profit (ETH): 0.02264612\n",
            "   Total profit (USDT): 5.16286272\n"
          ],
          "name": "stdout"
        }
      ]
    },
    {
      "cell_type": "markdown",
      "metadata": {
        "id": "59x1yVW6Saf1",
        "colab_type": "text"
      },
      "source": [
        "## Formulas:\n"
      ]
    },
    {
      "cell_type": "markdown",
      "metadata": {
        "id": "6uDmJm-rTk7C",
        "colab_type": "text"
      },
      "source": [
        "$P_{Q} = (\\Delta B - fee_B)\\cdot price_{BQ} + (\\Delta Q - fee_Q) - fee_{bnb}\\cdot price_{bnb}$\n",
        "\n",
        "$P_{USD} = P_{Q}\\cdot price_{usd} $\n",
        "\n",
        "*   $P_{Q}$ - total profit in quote currency\n",
        "*   $P_{USD}$ - total profit in USDT currency\n",
        "*   $\\Delta B = b - b_0,$ - base currency delta\n",
        "*   $\\Delta Q = q - q_0$ - quote currency delta\n",
        "*   $b_0, b, q_0, q$ - amount of base/quote currency at the start and at the end of the period \n",
        "*   $fee_B, fee_Q, fee_{bnb}$ - fees in base, quote and BNB currencies\n",
        "*   $price_{BQ}$ - market price of base-quote symbol at the end of the period\n",
        "*   $price_{bnb}$ - market price of BNB-quote symbol at the end of the period\n",
        "*   $price_{usd}$ - market price of quote-USDT symbol at the end of the period\n",
        "\n",
        "This calculation is based upon hummingbot performance measuring:<br>\n",
        "https://hummingbot.io/blog/2019-07-measure-performance-crypto-trading/"
      ]
    }
  ]
}