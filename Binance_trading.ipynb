{
  "nbformat": 4,
  "nbformat_minor": 0,
  "metadata": {
    "colab": {
      "name": "Binance_trading.ipynb",
      "provenance": [],
      "collapsed_sections": [
        "R8hImoAH3Zbk"
      ],
      "authorship_tag": "ABX9TyNXjE0rbylffwV/LSq1o9zo",
      "include_colab_link": true
    },
    "kernelspec": {
      "name": "python3",
      "display_name": "Python 3"
    }
  },
  "cells": [
    {
      "cell_type": "markdown",
      "metadata": {
        "id": "view-in-github",
        "colab_type": "text"
      },
      "source": [
        "<a href=\"https://colab.research.google.com/github/supervik/binance-trading-performance/blob/master/Binance_trading.ipynb\" target=\"_parent\"><img src=\"https://colab.research.google.com/assets/colab-badge.svg\" alt=\"Open In Colab\"/></a>"
      ]
    },
    {
      "cell_type": "markdown",
      "metadata": {
        "id": "t3Y12x0Q8ztb",
        "colab_type": "text"
      },
      "source": [
        "# Binance trading performance evaluation"
      ]
    },
    {
      "cell_type": "markdown",
      "metadata": {
        "id": "A5OaX-tQ3fPq",
        "colab_type": "text"
      },
      "source": [
        "## User settings"
      ]
    },
    {
      "cell_type": "code",
      "metadata": {
        "id": "Z22hjFCLuwAG",
        "colab_type": "code",
        "colab": {},
        "cellView": "form"
      },
      "source": [
        "# @markdown *API keys. Use read-only API keys for more security:*\n",
        "API_key = 'Rk39fQkdqoO3zYeud4b6dBGjMzMPkxVCVNUODIUMiBe8PaTTiDJk8v0YLy' #@param {type:\"string\"}\n",
        "API_secret = 'Gja2onh601kxZlaClp01mazkdd4b6dBGjMzM6roP29skq7EQDK4b5g0o' #@param {type:\"string\"}\n",
        "\n",
        "# @markdown *Market. Use dash '-' between base and quote assets.*\n",
        "market = 'XZC-BTC' #@param {type:\"string\"}\n",
        " \n",
        "# @markdown *Start and end date (UTC). Note, that **end_date** is used for getting final prices. P&L greatly depends on this date!*\n",
        "start_date = \"2020-07-07\" #@param {type:\"date\"}\n",
        "end_date = '2020-07-13' #@param {type:\"date\"}"
      ],
      "execution_count": null,
      "outputs": []
    },
    {
      "cell_type": "markdown",
      "metadata": {
        "id": "R8hImoAH3Zbk",
        "colab_type": "text"
      },
      "source": [
        "## Binance API"
      ]
    },
    {
      "cell_type": "code",
      "metadata": {
        "id": "CFiRBxH-3Tnm",
        "colab_type": "code",
        "colab": {},
        "cellView": "both"
      },
      "source": [
        "#@title\n",
        "# Credits to @Bablofil https://github.com/Bablofil/binance-api\n",
        "import time\n",
        "import json\n",
        "import urllib\n",
        "import hmac, hashlib\n",
        "import requests\n",
        "\n",
        "from urllib.parse import urlparse, urlencode\n",
        "from urllib.request import Request, urlopen\n",
        "\n",
        "class Binance():\n",
        "    \n",
        "    methods = {\n",
        "            #  Public methods     \n",
        "            'ping':             {'url': 'ping', 'method': 'GET', 'private': False},                     \n",
        "            'time':             {'url': 'time', 'method': 'GET', 'private': False},         \n",
        "            'exchangeInfo':     {'url': 'exchangeInfo', 'method': 'GET', 'private': False},\n",
        "            'depth':            {'url': 'depth', 'method': 'GET', 'private': False},\n",
        "            'trades':           {'url': 'trades', 'method': 'GET', 'private': False},  \n",
        "            'historicalTrades': {'url': 'historicalTrades', 'method': 'GET', 'private': False},  \n",
        "            'aggTrades':        {'url': 'aggTrades', 'method': 'GET', 'private': False},\n",
        "            'klines':           {'url': 'klines', 'method': 'GET', 'private': False},   \n",
        "            'avgPrice':         {'url': 'avgPrice', 'method': 'GET', 'private': False}, \n",
        "            'ticker24hr':       {'url': 'ticker/24hr', 'method': 'GET', 'private': False},\n",
        "            'tickerPrice':      {'url': 'ticker/price', 'method': 'GET', 'private': False},   \n",
        "            'tickerBookTicker': {'url': 'ticker/bookTicker', 'method': 'GET', 'private': False}, \n",
        "            #  Private methods   \n",
        "            'createOrder':      {'url': 'order', 'method': 'POST', 'private': True},                        \n",
        "            'testOrder':        {'url': 'test', 'method': 'POST', 'private': True},              \n",
        "            'orderInfo':        {'url': 'order', 'method': 'GET', 'private': True},\n",
        "            'cancelOrder':      {'url': 'order', 'method': 'DELETE', 'private': True},\n",
        "            'openOrders':       {'url': 'openOrders', 'method': 'GET', 'private': True}, \n",
        "            'allOrders':        {'url': 'allOrders', 'method': 'GET', 'private': True},     \n",
        "            'account':          {'url': 'account', 'method': 'GET', 'private': True}, \n",
        "            'myTrades':         {'url': 'myTrades', 'method': 'GET', 'private': True}, \n",
        "   }\n",
        "    \n",
        "    def __init__(self, API_KEY, API_SECRET):\n",
        "        self.API_KEY = API_KEY\n",
        "        self.API_SECRET = bytearray(API_SECRET, encoding='utf-8')\n",
        "        self.shift_seconds = 0\n",
        "\n",
        "    def __getattr__(self, name):\n",
        "        def wrapper(*args, **kwargs):\n",
        "            kwargs.update(command=name)\n",
        "            return self.call_api(**kwargs)\n",
        "        return wrapper\n",
        "\n",
        "    def set_shift_seconds(self, seconds):\n",
        "        self.shift_seconds = seconds\n",
        "        \n",
        "    def call_api(self, **kwargs):\n",
        "\n",
        "        command = kwargs.pop('command')\n",
        "        api_url = 'https://api.binance.com/api/v3/' + self.methods[command]['url']\n",
        "\n",
        "        payload = kwargs\n",
        "        headers = {}\n",
        "        \n",
        "        payload_str = urllib.parse.urlencode(payload)\n",
        "        if self.methods[command]['private']:\n",
        "            payload.update({'timestamp': int(time.time() + self.shift_seconds - 1) * 1000})\n",
        "            payload_str = urllib.parse.urlencode(payload).encode('utf-8')\n",
        "            sign = hmac.new(\n",
        "                key=self.API_SECRET,\n",
        "                msg=payload_str,\n",
        "                digestmod=hashlib.sha256\n",
        "            ).hexdigest()\n",
        "\n",
        "            payload_str = payload_str.decode(\"utf-8\") + \"&signature=\"+str(sign) \n",
        "            headers = {\"X-MBX-APIKEY\": self.API_KEY}\n",
        "\n",
        "        if self.methods[command]['method'] == 'GET':\n",
        "            api_url += '?' + payload_str\n",
        "\n",
        "        # print(api_url, payload_str, self.methods[command])\n",
        "        response = requests.request(\n",
        "            method=self.methods[command]['method'], \n",
        "            url=api_url, \n",
        "            data=\"\" if self.methods[command]['method'] == 'GET' else payload_str,\n",
        "            headers=headers)\n",
        "\n",
        "        if 'code' in response.text:\n",
        "            print(response.text)\n",
        "            response = response.json()\n",
        "            return response['error']\n",
        "        return response.json()\n",
        "\n"
      ],
      "execution_count": null,
      "outputs": []
    },
    {
      "cell_type": "markdown",
      "metadata": {
        "id": "NMHD6lrk3bww",
        "colab_type": "text"
      },
      "source": [
        "## Calculations"
      ]
    },
    {
      "cell_type": "code",
      "metadata": {
        "id": "oP03vOP-5Rwi",
        "colab_type": "code",
        "colab": {},
        "cellView": "form"
      },
      "source": [
        "#@title\n",
        "import sys\n",
        "import time\n",
        "import calendar\n",
        "import pandas as pd\n",
        "from IPython.core.interactiveshell import InteractiveShell\n",
        "InteractiveShell.ast_node_interactivity = \"all\"\n",
        "pd.set_option('display.max_rows', None)\n",
        "\n",
        "try:\n",
        "    asset_base = market.split(\"-\")[0]\n",
        "    asset_quote = market.split(\"-\")[1]\n",
        "except IndexError:\n",
        "    raise Exception(f\"!!! Warning: Use dash '-' to split base and quote assets for {market}!\")\n",
        "\n",
        "symbol = asset_base + asset_quote\n",
        "\n",
        "# Connect to Binance\n",
        "binance = Binance(API_key, API_secret)\n",
        "try:\n",
        "    trades = binance.myTrades(symbol = symbol)\n",
        "    print(f\"INFO: Exchange is successfully connected.\")\n",
        "except:\n",
        "    raise Exception(f\"!!! Warning: Can't get orders for {symbol}! Read message above.\")    \n",
        "\n",
        "# Create DataFrame \n",
        "df = pd.DataFrame(trades, columns = ['time', 'symbol', 'isBuyer', 'price', 'qty', 'quoteQty', 'commission', 'commissionAsset'])\n",
        "qty_base = 'qty_' + asset_base\n",
        "qty_quote = 'qty_' + asset_quote\n",
        "df.columns = ['time', 'symbol', 'side', 'price', qty_base, qty_quote, 'fee', 'fee_coin']\n",
        "df.side = df.side.replace([True, False], [1, -1])\n",
        "df = df.astype({'price': 'float', qty_base: 'float', qty_quote: 'float', 'fee': 'float'})\n",
        "\n",
        "# Start from time\n",
        "time_format = '%Y-%m-%d'\n",
        "start_date_ms = int(calendar.timegm(time.strptime(start_date, time_format)) * 1000)\n",
        "end_date_ms = int((calendar.timegm(time.strptime(end_date, time_format))) * 1000)\n",
        "df = df[(df.time >= start_date_ms) & (df.time <= end_date_ms + 86_400_000)]\n",
        "df.time = pd.to_datetime(df.time, unit='ms')\n",
        "\n",
        "# Find time for getting market prices\n",
        "time_now = time.gmtime(time.time())\n",
        "day_now_ms = calendar.timegm((time_now.tm_year, time_now.tm_mon, time_now.tm_mday, 0, 0, 0, 0, 0, 0)) * 1000\n",
        "prices_time = min(day_now_ms, end_date_ms)\n",
        "\n",
        "# Get symbol price\n",
        "try:\n",
        "    symbol_price  = float(binance.klines(symbol = symbol, interval = '1m', startTime = prices_time, limit = 1)[0][1])\n",
        "except:\n",
        "    print(f\"Something wrong with request of {symbol} price. Please try again.\")\n",
        "\n",
        "# Get quote-USD price\n",
        "if asset_quote == 'USDC' or asset_quote == 'USDT' or asset_quote == 'BUSD':\n",
        "    usd_price = 1\n",
        "else:\n",
        "    try:\n",
        "        usd_price  = float(binance.klines(symbol = asset_quote + 'USDT', interval = '1m', startTime = prices_time, limit = 1)[0][1])\n",
        "    except:\n",
        "        print(f\"Something wrong with the request of {asset_quote}USDT price. Please try again.\")\n",
        "\n",
        "# Get BNB-quote price\n",
        "if asset_quote == 'BNB':\n",
        "    bnb_price = 1\n",
        "else:\n",
        "    try:\n",
        "        bnb_price = float(binance.klines(symbol = 'BNB' + asset_quote, interval = '1m', startTime = prices_time, limit = 1)[0][1])\n",
        "    except:\n",
        "        print(f\"Something wrong with the request of BNB{asset_quote} price. Please try again.\")\n",
        "\n",
        "# Summary\n",
        "days = int((prices_time - start_date_ms)/(1000 * 86400)) + 1\n",
        "average_buy = df[df.side == 1][qty_quote].sum()/df[df.side == 1][qty_base].sum()\n",
        "average_sell = df[df.side == -1][qty_quote].sum()/df[df.side == -1][qty_base].sum()\n",
        "total_volume = df[qty_quote].sum()\n",
        "\n",
        "# Delta\n",
        "delta_base = (df[qty_base] * df.side).sum()\n",
        "delta_quote = - (df[qty_quote] * df.side).sum()\n",
        "\n",
        "# Fees\n",
        "fee_bnb = df[df.fee_coin == 'BNB'].fee.sum()\n",
        "fee_base = df[df.fee_coin == asset_base].fee.sum()\n",
        "fee_quote = df[df.fee_coin == asset_quote].fee.sum()\n",
        "\n",
        "# Totals\n",
        "total_quote = (delta_base - fee_base) * symbol_price + (delta_quote - fee_quote) - fee_bnb * bnb_price\n",
        "total_usd = total_quote * usd_price\n",
        "prices_time_utc = time.strftime(time_format, time.gmtime(prices_time/1000))"
      ],
      "execution_count": null,
      "outputs": []
    },
    {
      "cell_type": "markdown",
      "metadata": {
        "id": "Ud8yDgXUAacv",
        "colab_type": "text"
      },
      "source": [
        "## Trades"
      ]
    },
    {
      "cell_type": "code",
      "metadata": {
        "id": "2XzmkN2AAdRS",
        "colab_type": "code",
        "colab": {},
        "cellView": "form"
      },
      "source": [
        "#@title\n",
        "if df.empty:\n",
        "  print(f\"No trades found for {symbol} from {start_date} till {end_date}\")\n",
        "else: \n",
        "  print(f\"\\nTrades gathered for {symbol}:\")\n",
        "  df.side = df.side.replace([1, -1], ['BUY', 'SELL'])\n",
        "  df"
      ],
      "execution_count": null,
      "outputs": []
    },
    {
      "cell_type": "markdown",
      "metadata": {
        "id": "NJvrseVy6wfA",
        "colab_type": "text"
      },
      "source": [
        "## Summary"
      ]
    },
    {
      "cell_type": "code",
      "metadata": {
        "id": "Bz2nQ0zi6txc",
        "colab_type": "code",
        "colab": {},
        "cellView": "form"
      },
      "source": [
        "#@title\n",
        "print(f\"Summary for {symbol} for period [{start_date} - {end_date}]:\")\n",
        "print(f\"   Days: {days}\")\n",
        "print(f\"   Trades executed: {df.time.count()}\")\n",
        "print(f\"   Total volume traded ({asset_quote}): {round(total_volume, 8)}\")\n",
        "print(f\"   Average buy price: {round(average_buy, 8)}\")\n",
        "print(f\"   Average sell price: {round(average_sell, 8)}\")\n",
        "print(f\"\\nTrading delta:\")\n",
        "print(f\"   Delta {asset_base}: {round(delta_base, 8)}\")\n",
        "print(f\"   Delta {asset_quote}: {round(delta_quote, 8)}\")\n",
        "print(f\"\\nFees:\")\n",
        "print(f\"   Fees BNB: {round(fee_bnb, 8)}\")\n",
        "print(f\"   Fees {asset_base}: {round(fee_base, 8)}\")\n",
        "print(f\"   Fees {asset_quote}: {round(fee_quote, 8)}\")\n",
        "print(f\"\\nPrices at the end of the period [{prices_time_utc}]:\")\n",
        "print(f\"   Price {symbol}: {symbol_price}\")\n",
        "print(f\"   Price {asset_quote}USDT: {usd_price}\")\n",
        "print(f\"   Price BNB{asset_quote}: {bnb_price}\")\n",
        "print(f\"\\nTotal profit:\")\n",
        "print(f\"   Total profit ({asset_quote}): {round(total_quote, 8)}\")\n",
        "print(f\"   Total profit (USDT): {round(total_usd, 8)}\")"
      ],
      "execution_count": null,
      "outputs": []
    }
  ]
}