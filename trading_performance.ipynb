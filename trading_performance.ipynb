{
 "cells": [
  {
   "cell_type": "markdown",
   "metadata": {
    "colab_type": "text",
    "id": "t3Y12x0Q8ztb"
   },
   "source": [
    "# Binance trading performance evaluation"
   ]
  },
  {
   "cell_type": "markdown",
   "metadata": {
    "colab_type": "text",
    "id": "A5OaX-tQ3fPq"
   },
   "source": [
    "## User settings"
   ]
  },
  {
   "cell_type": "code",
   "execution_count": 1,
   "metadata": {
    "cellView": "form",
    "colab": {},
    "colab_type": "code",
    "id": "Z22hjFCLuwAG"
   },
   "outputs": [],
   "source": [
    "# @markdown *API keys. Use read-only API keys for more security:*\n",
    "API_key = 'Rk39fQkdqoO3zYeud4b6dBGjMzMPkxVCVNUODIUMiBe8PaTTiDJk8v0YLy' #@param {type:\"string\"}\n",
    "API_secret = 'Gja2onh601kxZlaClp01mazkdd4b6dBGjMzM6roP29skq7EQDK4b5g0o' #@param {type:\"string\"}\n",
    "\n",
    "# @markdown *Market. Use dash '-' between base and quote assets.*\n",
    "market = 'MFT-USDT' #@param {type:\"string\"}\n",
    " \n",
    "# @markdown *Start and end date (UTC). Note, that **end_date** is used for getting final prices. P&L greatly depends on this date!*\n",
    "start_date = \"2020-07-01\" #@param {type:\"date\"}\n",
    "end_date = '2020-07-13' #@param {type:\"date\"}"
   ]
  },
  {
   "cell_type": "markdown",
   "metadata": {
    "colab_type": "text",
    "id": "NMHD6lrk3bww"
   },
   "source": [
    "## Calculations"
   ]
  },
  {
   "cell_type": "code",
   "execution_count": 2,
   "metadata": {
    "cellView": "form",
    "colab": {
     "base_uri": "https://localhost:8080/",
     "height": 34
    },
    "colab_type": "code",
    "id": "oP03vOP-5Rwi",
    "outputId": "b82f4d1e-2f2f-46cc-df52-410bceba9f2f"
   },
   "outputs": [
    {
     "name": "stdout",
     "output_type": "stream",
     "text": [
      "INFO: Exchange is successfully connected.\n"
     ]
    }
   ],
   "source": [
    "import sys\n",
    "import time\n",
    "import calendar\n",
    "import pandas as pd\n",
    "import binance_api\n",
    "from IPython.core.interactiveshell import InteractiveShell\n",
    "InteractiveShell.ast_node_interactivity = \"all\"\n",
    "pd.set_option('display.max_rows', None)\n",
    "\n",
    "try:\n",
    "    asset_base = market.split(\"-\")[0]\n",
    "    asset_quote = market.split(\"-\")[1]\n",
    "except IndexError:\n",
    "    raise Exception(f\"!!! Warning: Use dash '-' to split base and quote assets for {market}!\")\n",
    "\n",
    "symbol = asset_base + asset_quote\n",
    "\n",
    "# Connect to Binance\n",
    "binance = binance_api.Binance(API_key, API_secret)\n",
    "try:\n",
    "    trades = binance.myTrades(symbol = symbol)\n",
    "    print(f\"INFO: Exchange is successfully connected.\")\n",
    "except:\n",
    "    raise Exception(f\"!!! Warning: Can't get orders for {symbol}! Read message above.\")    \n",
    "\n",
    "# Create DataFrame \n",
    "df = pd.DataFrame(trades, columns = ['time', 'symbol', 'isBuyer', 'price', 'qty', 'quoteQty', 'commission', 'commissionAsset'])\n",
    "qty_base = 'qty_' + asset_base\n",
    "qty_quote = 'qty_' + asset_quote\n",
    "df.columns = ['time', 'symbol', 'side', 'price', qty_base, qty_quote, 'fee', 'fee_coin']\n",
    "df.side = df.side.replace([True, False], [1, -1])\n",
    "df = df.astype({'price': 'float', qty_base: 'float', qty_quote: 'float', 'fee': 'float'})\n",
    "\n",
    "# Start from time\n",
    "time_format = '%Y-%m-%d'\n",
    "start_date_ms = int(calendar.timegm(time.strptime(start_date, time_format)) * 1000)\n",
    "end_date_ms = int((calendar.timegm(time.strptime(end_date, time_format))) * 1000)\n",
    "df = df[(df.time >= start_date_ms) & (df.time <= end_date_ms + 86_400_000)]\n",
    "df.time = pd.to_datetime(df.time, unit='ms')\n",
    "\n",
    "# Find time for getting market prices\n",
    "time_now = time.gmtime(time.time())\n",
    "day_now_ms = calendar.timegm((time_now.tm_year, time_now.tm_mon, time_now.tm_mday, 0, 0, 0, 0, 0, 0)) * 1000\n",
    "prices_time = min(day_now_ms, end_date_ms)\n",
    "\n",
    "# Get symbol price\n",
    "try:\n",
    "    symbol_price  = float(binance.klines(symbol = symbol, interval = '1m', startTime = prices_time, limit = 1)[0][1])\n",
    "except:\n",
    "    print(f\"Something wrong with request of {symbol} price. Please try again.\")\n",
    "\n",
    "# Get quote-USD price\n",
    "if asset_quote == 'USDC' or asset_quote == 'USDT' or asset_quote == 'BUSD':\n",
    "    usd_price = 1\n",
    "else:\n",
    "    try:\n",
    "        usd_price  = float(binance.klines(symbol = asset_quote + 'USDT', interval = '1m', startTime = prices_time, limit = 1)[0][1])\n",
    "    except:\n",
    "        print(f\"Something wrong with the request of {asset_quote}USDT price. Please try again.\")\n",
    "\n",
    "# Get BNB-quote price\n",
    "if asset_quote == 'BNB':\n",
    "    bnb_price = 1\n",
    "else:\n",
    "    try:\n",
    "        bnb_price = float(binance.klines(symbol = 'BNB' + asset_quote, interval = '1m', startTime = prices_time, limit = 1)[0][1])\n",
    "    except:\n",
    "        print(f\"Something wrong with the request of BNB{asset_quote} price. Please try again.\")\n",
    "\n",
    "# Summary\n",
    "days = int((prices_time - start_date_ms)/(1000 * 86400)) + 1\n",
    "average_buy = df[df.side == 1][qty_quote].sum()/df[df.side == 1][qty_base].sum()\n",
    "average_sell = df[df.side == -1][qty_quote].sum()/df[df.side == -1][qty_base].sum()\n",
    "total_volume = df[qty_quote].sum()\n",
    "\n",
    "# Delta\n",
    "delta_base = (df[qty_base] * df.side).sum()\n",
    "delta_quote = - (df[qty_quote] * df.side).sum()\n",
    "\n",
    "# Fees\n",
    "fee_bnb = df[df.fee_coin == 'BNB'].fee.sum()\n",
    "fee_base = df[df.fee_coin == asset_base].fee.sum()\n",
    "fee_quote = df[df.fee_coin == asset_quote].fee.sum()\n",
    "\n",
    "# Totals\n",
    "total_quote = (delta_base - fee_base) * symbol_price + (delta_quote - fee_quote) - fee_bnb * bnb_price\n",
    "total_usd = total_quote * usd_price\n",
    "prices_time_utc = time.strftime(time_format, time.gmtime(prices_time/1000))"
   ]
  },
  {
   "cell_type": "markdown",
   "metadata": {
    "colab_type": "text",
    "id": "Ud8yDgXUAacv"
   },
   "source": [
    "## Trades"
   ]
  },
  {
   "cell_type": "code",
   "execution_count": 3,
   "metadata": {
    "cellView": "form",
    "colab": {
     "base_uri": "https://localhost:8080/",
     "height": 579
    },
    "colab_type": "code",
    "id": "2XzmkN2AAdRS",
    "outputId": "4f82afbe-d238-4698-9f22-dc93704fa38f"
   },
   "outputs": [
    {
     "name": "stdout",
     "output_type": "stream",
     "text": [
      "\n",
      "Trades gathered for MFTUSDT:\n"
     ]
    },
    {
     "data": {
      "text/html": [
       "<div>\n",
       "<style scoped>\n",
       "    .dataframe tbody tr th:only-of-type {\n",
       "        vertical-align: middle;\n",
       "    }\n",
       "\n",
       "    .dataframe tbody tr th {\n",
       "        vertical-align: top;\n",
       "    }\n",
       "\n",
       "    .dataframe thead th {\n",
       "        text-align: right;\n",
       "    }\n",
       "</style>\n",
       "<table border=\"1\" class=\"dataframe\">\n",
       "  <thead>\n",
       "    <tr style=\"text-align: right;\">\n",
       "      <th></th>\n",
       "      <th>time</th>\n",
       "      <th>symbol</th>\n",
       "      <th>side</th>\n",
       "      <th>price</th>\n",
       "      <th>qty_MFT</th>\n",
       "      <th>qty_USDT</th>\n",
       "      <th>fee</th>\n",
       "      <th>fee_coin</th>\n",
       "    </tr>\n",
       "  </thead>\n",
       "  <tbody>\n",
       "    <tr>\n",
       "      <td>0</td>\n",
       "      <td>2020-07-10 13:41:40.861</td>\n",
       "      <td>MFTUSDT</td>\n",
       "      <td>BUY</td>\n",
       "      <td>0.000951</td>\n",
       "      <td>315457.0</td>\n",
       "      <td>299.999607</td>\n",
       "      <td>0.013625</td>\n",
       "      <td>BNB</td>\n",
       "    </tr>\n",
       "    <tr>\n",
       "      <td>1</td>\n",
       "      <td>2020-07-10 13:42:24.668</td>\n",
       "      <td>MFTUSDT</td>\n",
       "      <td>SELL</td>\n",
       "      <td>0.000958</td>\n",
       "      <td>52312.0</td>\n",
       "      <td>50.114896</td>\n",
       "      <td>0.002259</td>\n",
       "      <td>BNB</td>\n",
       "    </tr>\n",
       "    <tr>\n",
       "      <td>2</td>\n",
       "      <td>2020-07-10 14:14:58.193</td>\n",
       "      <td>MFTUSDT</td>\n",
       "      <td>SELL</td>\n",
       "      <td>0.000951</td>\n",
       "      <td>125198.0</td>\n",
       "      <td>119.063298</td>\n",
       "      <td>0.119063</td>\n",
       "      <td>USDT</td>\n",
       "    </tr>\n",
       "    <tr>\n",
       "      <td>3</td>\n",
       "      <td>2020-07-10 14:58:18.169</td>\n",
       "      <td>MFTUSDT</td>\n",
       "      <td>SELL</td>\n",
       "      <td>0.000955</td>\n",
       "      <td>137947.0</td>\n",
       "      <td>131.739385</td>\n",
       "      <td>0.131739</td>\n",
       "      <td>USDT</td>\n",
       "    </tr>\n",
       "    <tr>\n",
       "      <td>4</td>\n",
       "      <td>2020-07-11 06:36:11.159</td>\n",
       "      <td>MFTUSDT</td>\n",
       "      <td>BUY</td>\n",
       "      <td>0.000972</td>\n",
       "      <td>308641.0</td>\n",
       "      <td>299.999052</td>\n",
       "      <td>308.641000</td>\n",
       "      <td>MFT</td>\n",
       "    </tr>\n",
       "    <tr>\n",
       "      <td>5</td>\n",
       "      <td>2020-07-11 09:57:37.304</td>\n",
       "      <td>MFTUSDT</td>\n",
       "      <td>SELL</td>\n",
       "      <td>0.000963</td>\n",
       "      <td>103675.0</td>\n",
       "      <td>99.839025</td>\n",
       "      <td>0.004351</td>\n",
       "      <td>BNB</td>\n",
       "    </tr>\n",
       "    <tr>\n",
       "      <td>6</td>\n",
       "      <td>2020-07-12 02:32:40.572</td>\n",
       "      <td>MFTUSDT</td>\n",
       "      <td>SELL</td>\n",
       "      <td>0.000973</td>\n",
       "      <td>13000.0</td>\n",
       "      <td>12.649000</td>\n",
       "      <td>0.000530</td>\n",
       "      <td>BNB</td>\n",
       "    </tr>\n",
       "    <tr>\n",
       "      <td>7</td>\n",
       "      <td>2020-07-12 04:06:51.237</td>\n",
       "      <td>MFTUSDT</td>\n",
       "      <td>SELL</td>\n",
       "      <td>0.000973</td>\n",
       "      <td>191657.0</td>\n",
       "      <td>186.482261</td>\n",
       "      <td>0.186482</td>\n",
       "      <td>USDT</td>\n",
       "    </tr>\n",
       "    <tr>\n",
       "      <td>8</td>\n",
       "      <td>2020-07-13 04:14:35.838</td>\n",
       "      <td>MFTUSDT</td>\n",
       "      <td>BUY</td>\n",
       "      <td>0.000946</td>\n",
       "      <td>317124.0</td>\n",
       "      <td>299.999304</td>\n",
       "      <td>317.124000</td>\n",
       "      <td>MFT</td>\n",
       "    </tr>\n",
       "    <tr>\n",
       "      <td>9</td>\n",
       "      <td>2020-07-13 07:33:21.835</td>\n",
       "      <td>MFTUSDT</td>\n",
       "      <td>SELL</td>\n",
       "      <td>0.000956</td>\n",
       "      <td>316807.0</td>\n",
       "      <td>302.867492</td>\n",
       "      <td>0.302867</td>\n",
       "      <td>USDT</td>\n",
       "    </tr>\n",
       "  </tbody>\n",
       "</table>\n",
       "</div>"
      ],
      "text/plain": [
       "                     time   symbol  side     price   qty_MFT    qty_USDT  \\\n",
       "0 2020-07-10 13:41:40.861  MFTUSDT   BUY  0.000951  315457.0  299.999607   \n",
       "1 2020-07-10 13:42:24.668  MFTUSDT  SELL  0.000958   52312.0   50.114896   \n",
       "2 2020-07-10 14:14:58.193  MFTUSDT  SELL  0.000951  125198.0  119.063298   \n",
       "3 2020-07-10 14:58:18.169  MFTUSDT  SELL  0.000955  137947.0  131.739385   \n",
       "4 2020-07-11 06:36:11.159  MFTUSDT   BUY  0.000972  308641.0  299.999052   \n",
       "5 2020-07-11 09:57:37.304  MFTUSDT  SELL  0.000963  103675.0   99.839025   \n",
       "6 2020-07-12 02:32:40.572  MFTUSDT  SELL  0.000973   13000.0   12.649000   \n",
       "7 2020-07-12 04:06:51.237  MFTUSDT  SELL  0.000973  191657.0  186.482261   \n",
       "8 2020-07-13 04:14:35.838  MFTUSDT   BUY  0.000946  317124.0  299.999304   \n",
       "9 2020-07-13 07:33:21.835  MFTUSDT  SELL  0.000956  316807.0  302.867492   \n",
       "\n",
       "          fee fee_coin  \n",
       "0    0.013625      BNB  \n",
       "1    0.002259      BNB  \n",
       "2    0.119063     USDT  \n",
       "3    0.131739     USDT  \n",
       "4  308.641000      MFT  \n",
       "5    0.004351      BNB  \n",
       "6    0.000530      BNB  \n",
       "7    0.186482     USDT  \n",
       "8  317.124000      MFT  \n",
       "9    0.302867     USDT  "
      ]
     },
     "execution_count": 3,
     "metadata": {},
     "output_type": "execute_result"
    }
   ],
   "source": [
    "if df.empty:\n",
    "  print(f\"No trades found for {symbol} from {start_date} till {end_date}\")\n",
    "else: \n",
    "  print(f\"\\nTrades gathered for {symbol}:\")\n",
    "  df.side = df.side.replace([1, -1], ['BUY', 'SELL'])\n",
    "  df"
   ]
  },
  {
   "cell_type": "markdown",
   "metadata": {
    "colab_type": "text",
    "id": "NJvrseVy6wfA"
   },
   "source": [
    "## Summary"
   ]
  },
  {
   "cell_type": "code",
   "execution_count": 4,
   "metadata": {
    "cellView": "form",
    "colab": {
     "base_uri": "https://localhost:8080/",
     "height": 425
    },
    "colab_type": "code",
    "id": "Bz2nQ0zi6txc",
    "outputId": "884d083f-8c8d-4a02-9610-c6cde3129932"
   },
   "outputs": [
    {
     "name": "stdout",
     "output_type": "stream",
     "text": [
      "Summary for MFTUSDT for period [2020-07-01 - 2020-07-13]:\n",
      "   Days: 13\n",
      "   Trades executed: 10\n",
      "   Total volume traded (USDT): 1802.75332\n",
      "   Average buy price: 0.0009562\n",
      "   Average sell price: 0.00095977\n",
      "\n",
      "Trading delta:\n",
      "   Delta MFT: 626.0\n",
      "   Delta USDT: 2.757394\n",
      "\n",
      "Fees:\n",
      "   Fees BNB: 0.02076521\n",
      "   Fees MFT: 625.765\n",
      "   Fees USDT: 0.74015244\n",
      "\n",
      "Prices at the end of the period [2020-07-13]:\n",
      "   Price MFTUSDT: 0.000973\n",
      "   Price USDTUSDT: 1\n",
      "   Price BNBUSDT: 18.3036\n",
      "\n",
      "Total profit:\n",
      "   Total profit (USDT): 1.63739212\n",
      "   Total profit (USDT): 1.63739212\n"
     ]
    }
   ],
   "source": [
    "print(f\"Summary for {symbol} for period [{start_date} - {end_date}]:\")\n",
    "print(f\"   Days: {days}\")\n",
    "print(f\"   Trades executed: {df.time.count()}\")\n",
    "print(f\"   Total volume traded ({asset_quote}): {round(total_volume, 8)}\")\n",
    "print(f\"   Average buy price: {round(average_buy, 8)}\")\n",
    "print(f\"   Average sell price: {round(average_sell, 8)}\")\n",
    "print(f\"\\nTrading delta:\")\n",
    "print(f\"   Delta {asset_base}: {round(delta_base, 8)}\")\n",
    "print(f\"   Delta {asset_quote}: {round(delta_quote, 8)}\")\n",
    "print(f\"\\nFees:\")\n",
    "print(f\"   Fees BNB: {round(fee_bnb, 8)}\")\n",
    "print(f\"   Fees {asset_base}: {round(fee_base, 8)}\")\n",
    "print(f\"   Fees {asset_quote}: {round(fee_quote, 8)}\")\n",
    "print(f\"\\nPrices at the end of the period [{prices_time_utc}]:\")\n",
    "print(f\"   Price {symbol}: {symbol_price}\")\n",
    "print(f\"   Price {asset_quote}USDT: {usd_price}\")\n",
    "print(f\"   Price BNB{asset_quote}: {bnb_price}\")\n",
    "print(f\"\\nTotal profit:\")\n",
    "print(f\"   Total profit ({asset_quote}): {round(total_quote, 8)}\")\n",
    "print(f\"   Total profit (USDT): {round(total_usd, 8)}\")"
   ]
  }
 ],
 "metadata": {
  "colab": {
   "collapsed_sections": [
    "R8hImoAH3Zbk",
    "NMHD6lrk3bww"
   ],
   "name": "Binance_trading.ipynb",
   "provenance": []
  },
  "kernelspec": {
   "display_name": "Python 3",
   "language": "python",
   "name": "python3"
  },
  "language_info": {
   "codemirror_mode": {
    "name": "ipython",
    "version": 3
   },
   "file_extension": ".py",
   "mimetype": "text/x-python",
   "name": "python",
   "nbconvert_exporter": "python",
   "pygments_lexer": "ipython3",
   "version": "3.7.4"
  }
 },
 "nbformat": 4,
 "nbformat_minor": 1
}
